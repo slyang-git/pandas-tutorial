{
 "cells": [
  {
   "cell_type": "markdown",
   "id": "f1e97a7a",
   "metadata": {},
   "source": [
    "Adding and Removing Columns\n",
    "Applying Functions to Data\n",
    "Combining and Merging DataFrames\n",
    "Introduction to GroupBy Operations"
   ]
  },
  {
   "cell_type": "code",
   "execution_count": null,
   "id": "f8e605e0",
   "metadata": {},
   "outputs": [],
   "source": []
  }
 ],
 "metadata": {
  "kernelspec": {
   "display_name": "Python 3 (ipykernel)",
   "language": "python",
   "name": "python3"
  },
  "language_info": {
   "codemirror_mode": {
    "name": "ipython",
    "version": 3
   },
   "file_extension": ".py",
   "mimetype": "text/x-python",
   "name": "python",
   "nbconvert_exporter": "python",
   "pygments_lexer": "ipython3",
   "version": "3.11.5"
  }
 },
 "nbformat": 4,
 "nbformat_minor": 5
}
