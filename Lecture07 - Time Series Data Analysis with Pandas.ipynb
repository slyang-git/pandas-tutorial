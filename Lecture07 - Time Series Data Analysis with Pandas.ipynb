{
 "cells": [
  {
   "cell_type": "markdown",
   "id": "a7940263",
   "metadata": {},
   "source": [
    "Basics of Time Series Data\n",
    "Date and Time Formatting\n",
    "Resampling Time Series Data\n",
    "Basic Time Series Visualization"
   ]
  }
 ],
 "metadata": {
  "kernelspec": {
   "display_name": "Python 3 (ipykernel)",
   "language": "python",
   "name": "python3"
  },
  "language_info": {
   "codemirror_mode": {
    "name": "ipython",
    "version": 3
   },
   "file_extension": ".py",
   "mimetype": "text/x-python",
   "name": "python",
   "nbconvert_exporter": "python",
   "pygments_lexer": "ipython3",
   "version": "3.11.5"
  }
 },
 "nbformat": 4,
 "nbformat_minor": 5
}
