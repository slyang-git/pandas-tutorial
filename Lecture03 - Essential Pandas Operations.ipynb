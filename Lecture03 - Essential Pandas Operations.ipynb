{
 "cells": [
  {
   "cell_type": "markdown",
   "id": "df326c4b",
   "metadata": {},
   "source": [
    "Indexing and Slicing DataFrames\n",
    "Filtering and Selecting Data\n",
    "Sorting DataFrames\n",
    "Basic Statistical Operations"
   ]
  }
 ],
 "metadata": {
  "kernelspec": {
   "display_name": "Python 3 (ipykernel)",
   "language": "python",
   "name": "python3"
  },
  "language_info": {
   "codemirror_mode": {
    "name": "ipython",
    "version": 3
   },
   "file_extension": ".py",
   "mimetype": "text/x-python",
   "name": "python",
   "nbconvert_exporter": "python",
   "pygments_lexer": "ipython3",
   "version": "3.11.5"
  }
 },
 "nbformat": 4,
 "nbformat_minor": 5
}
