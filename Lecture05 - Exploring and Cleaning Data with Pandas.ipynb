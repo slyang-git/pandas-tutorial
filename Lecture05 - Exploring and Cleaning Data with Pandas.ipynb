{
 "cells": [
  {
   "cell_type": "markdown",
   "id": "af939580",
   "metadata": {},
   "source": [
    "Overview of Exploratory Data Analysis (EDA)\n",
    "Basic Descriptive Statistics with Pandas\n",
    "Identifying and Handling Missing Values\n",
    "Removing Duplicates"
   ]
  },
  {
   "cell_type": "code",
   "execution_count": null,
   "id": "af3e0630",
   "metadata": {},
   "outputs": [],
   "source": []
  }
 ],
 "metadata": {
  "kernelspec": {
   "display_name": "Python 3 (ipykernel)",
   "language": "python",
   "name": "python3"
  },
  "language_info": {
   "codemirror_mode": {
    "name": "ipython",
    "version": 3
   },
   "file_extension": ".py",
   "mimetype": "text/x-python",
   "name": "python",
   "nbconvert_exporter": "python",
   "pygments_lexer": "ipython3",
   "version": "3.11.5"
  }
 },
 "nbformat": 4,
 "nbformat_minor": 5
}
