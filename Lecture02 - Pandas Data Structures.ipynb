{
 "cells": [
  {
   "cell_type": "markdown",
   "id": "0b4d71d3",
   "metadata": {},
   "source": [
    "Introduction to Series and DataFrames\n",
    "Creating and Accessing Series\n",
    "Creating and Accessing DataFrames\n",
    "Basic Operations with Series and DataFrames"
   ]
  }
 ],
 "metadata": {
  "kernelspec": {
   "display_name": "Python 3 (ipykernel)",
   "language": "python",
   "name": "python3"
  },
  "language_info": {
   "codemirror_mode": {
    "name": "ipython",
    "version": 3
   },
   "file_extension": ".py",
   "mimetype": "text/x-python",
   "name": "python",
   "nbconvert_exporter": "python",
   "pygments_lexer": "ipython3",
   "version": "3.11.5"
  }
 },
 "nbformat": 4,
 "nbformat_minor": 5
}
